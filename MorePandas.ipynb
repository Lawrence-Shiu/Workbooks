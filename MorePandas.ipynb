{
 "cells": [
  {
   "cell_type": "code",
   "execution_count": 10,
   "metadata": {
    "collapsed": true
   },
   "outputs": [],
   "source": [
    "# Import pandas\n",
    "import pandas as pd"
   ]
  },
  {
   "cell_type": "code",
   "execution_count": 11,
   "metadata": {
    "collapsed": true
   },
   "outputs": [],
   "source": [
    "# Given the following data\n",
    "indices = ['a', 'b', 'c', 'd']\n",
    "d_type = [0, 1, 0, 1]\n",
    "d1 = [1, 2, 3, 4]\n",
    "d2 = [5, 6, 7, 8]\n",
    "\n",
    "# Create a dataframe, in which 'indices' are the index, with 3 columns of data, called 'TYPE', 'D1', and 'D2'\n",
    "\n",
    "# CODE HERE"
   ]
  },
  {
   "cell_type": "code",
   "execution_count": 12,
   "metadata": {
    "collapsed": true
   },
   "outputs": [],
   "source": [
    "# Loop through the dataframe\n",
    "#  If the row is of type '0', add the index (as a key) and d1 (as a value) to the 'zero_dat' dictionary\n",
    "zero_dat = {}\n",
    "\n",
    "# CODE HERE"
   ]
  }
 ],
 "metadata": {
  "kernelspec": {
   "display_name": "Python 3",
   "language": "python",
   "name": "python3"
  },
  "language_info": {
   "codemirror_mode": {
    "name": "ipython",
    "version": 3
   },
   "file_extension": ".py",
   "mimetype": "text/x-python",
   "name": "python",
   "nbconvert_exporter": "python",
   "pygments_lexer": "ipython3",
   "version": "3.6.3"
  }
 },
 "nbformat": 4,
 "nbformat_minor": 2
}
