{
 "cells": [
  {
   "cell_type": "markdown",
   "metadata": {},
   "source": [
    "# Python Data Types - Practice\n",
    "\n",
    "Some quick practice with standard library data types."
   ]
  },
  {
   "cell_type": "markdown",
   "metadata": {},
   "source": [
    "## Step 1\n",
    "\n",
    "- Create a tuple, called 'tup', with items 'a', 'b', 'c', 'd', 'e'\n",
    "- Create a list, called 'lst', with items 1, 2, 3, 4, 5\n",
    "- Create a dictionary, calle 'dicto', with keys from tup, and items from lst"
   ]
  },
  {
   "cell_type": "code",
   "execution_count": null,
   "metadata": {},
   "outputs": [],
   "source": []
  },
  {
   "cell_type": "markdown",
   "metadata": {},
   "source": [
    "#### Tuples vs. Lists\n",
    "If you are unsure, this covers some of the differences between lists and tuples:\n",
    "\n",
    "http://stackoverflow.com/questions/626759/whats-the-difference-between-lists-and-tuples"
   ]
  },
  {
   "cell_type": "markdown",
   "metadata": {},
   "source": [
    "## Step 2\n",
    "\n",
    "- Create a new dictionary, with 100 elements, called 'dat':\n",
    "    - Index should be 0 - 99\n",
    "    - Values should be randomly selected from the letters 'a', 'b', 'c', 'd', 'e'\n",
    "- Convert this dictionary to a pandas series, call it 'ser'"
   ]
  },
  {
   "cell_type": "code",
   "execution_count": 1,
   "metadata": {
    "collapsed": true
   },
   "outputs": [],
   "source": [
    "# Imports provided\n",
    "import pandas as pd\n",
    "from numpy.random import randint"
   ]
  },
  {
   "cell_type": "markdown",
   "metadata": {},
   "source": [
    "## Step 3\n",
    "\n",
    "- So, consider 'dicto' is the points value for each letter, and 'ser' is data of some letters we observed\n",
    "    - With our data 'ser', we want to know how many points we observed, both split out per letter, and in total (across all letters)\n",
    "- Create a new dictionary, called 'count_points', with keys 'a', 'b', 'c', 'd', 'e'\n",
    "    - Start values should be zero for each key\n",
    "- Loop through 'ser', for each letter, adding the points value (from `dicto`) to the corresponding entry in 'count_points'\n",
    "- Print out the points per letter\n",
    "- Sum across all letters, and print out the total number of points"
   ]
  },
  {
   "cell_type": "code",
   "execution_count": null,
   "metadata": {
    "collapsed": true
   },
   "outputs": [],
   "source": []
  }
 ],
 "metadata": {
  "kernelspec": {
   "display_name": "Python 3",
   "language": "python",
   "name": "python3"
  },
  "language_info": {
   "codemirror_mode": {
    "name": "ipython",
    "version": 3
   },
   "file_extension": ".py",
   "mimetype": "text/x-python",
   "name": "python",
   "nbconvert_exporter": "python",
   "pygments_lexer": "ipython3",
   "version": "3.6.3"
  }
 },
 "nbformat": 4,
 "nbformat_minor": 2
}
